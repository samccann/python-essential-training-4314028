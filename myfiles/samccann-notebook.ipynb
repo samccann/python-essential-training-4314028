{
 "cells": [
  {
   "cell_type": "markdown",
   "id": "09963693-5360-43c5-b427-bcde53b67c89",
   "metadata": {},
   "source": [
    "# My course notebook"
   ]
  },
  {
   "cell_type": "markdown",
   "id": "c9fa5822-5dd7-47fc-afeb-6995b6a27368",
   "metadata": {},
   "source": [
    "This is my personal jupyter notebook to go along with the course"
   ]
  },
  {
   "cell_type": "code",
   "execution_count": 1,
   "id": "d10741a9-5af1-47d2-b0ef-760b0af0a886",
   "metadata": {},
   "outputs": [
    {
     "name": "stdout",
     "output_type": "stream",
     "text": [
      "Hello, everyon!\n"
     ]
    }
   ],
   "source": [
    "print('Hello, everyon!')"
   ]
  },
  {
   "cell_type": "code",
   "execution_count": null,
   "id": "d8ce5f71-c2c9-4192-abe3-a794d4a30226",
   "metadata": {},
   "outputs": [],
   "source": []
  }
 ],
 "metadata": {
  "kernelspec": {
   "display_name": "Python 3 (ipykernel)",
   "language": "python",
   "name": "python3"
  },
  "language_info": {
   "codemirror_mode": {
    "name": "ipython",
    "version": 3
   },
   "file_extension": ".py",
   "mimetype": "text/x-python",
   "name": "python",
   "nbconvert_exporter": "python",
   "pygments_lexer": "ipython3",
   "version": "3.11.4"
  }
 },
 "nbformat": 4,
 "nbformat_minor": 5
}

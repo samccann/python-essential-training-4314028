{
 "cells": [
  {
   "cell_type": "markdown",
   "id": "b36bc2af-2574-471f-92b0-aceac764dbf3",
   "metadata": {},
   "source": [
    "# My Class practice\n",
    "\n",
    "This contains my practice sessions.\n",
    "\n",
    "## Classes and objects"
   ]
  },
  {
   "cell_type": "code",
   "execution_count": 77,
   "id": "ec082c2e-9f40-44b6-9552-89d588e117d6",
   "metadata": {},
   "outputs": [
    {
     "ename": "SyntaxError",
     "evalue": "unterminated string literal (detected at line 7) (467199179.py, line 7)",
     "output_type": "error",
     "traceback": [
      "\u001b[0;36m  Cell \u001b[0;32mIn[77], line 7\u001b[0;36m\u001b[0m\n\u001b[0;31m    print(self.name + ' says Bark!`)\u001b[0m\n\u001b[0m                      ^\u001b[0m\n\u001b[0;31mSyntaxError\u001b[0m\u001b[0;31m:\u001b[0m unterminated string literal (detected at line 7)\n"
     ]
    }
   ],
   "source": [
    "class Dog:\n",
    "    def __init__(self):\n",
    "        self.name = 'lily'\n",
    "        self.legs = 4\n",
    "\n",
    "    def speak(self):\n",
    "        print(self.name + ' says Bark!')\n",
    "        "
   ]
  },
  {
   "cell_type": "code",
   "execution_count": null,
   "id": "a7ab6d3a-13cd-4805-bb8b-15be9e44d9a3",
   "metadata": {},
   "outputs": [],
   "source": []
  }
 ],
 "metadata": {
  "kernelspec": {
   "display_name": "Python 3 (ipykernel)",
   "language": "python",
   "name": "python3"
  },
  "language_info": {
   "codemirror_mode": {
    "name": "ipython",
    "version": 3
   },
   "file_extension": ".py",
   "mimetype": "text/x-python",
   "name": "python",
   "nbconvert_exporter": "python",
   "pygments_lexer": "ipython3",
   "version": "3.11.4"
  }
 },
 "nbformat": 4,
 "nbformat_minor": 5
}

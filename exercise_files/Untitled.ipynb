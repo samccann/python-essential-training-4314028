{
 "cells": [
  {
   "cell_type": "markdown",
   "id": "b36bc2af-2574-471f-92b0-aceac764dbf3",
   "metadata": {},
   "source": [
    "# My Class practice\n",
    "\n",
    "This contains my practice sessions.\n",
    "\n",
    "## Basic data types"
   ]
  },
  {
   "cell_type": "code",
   "execution_count": 94,
   "id": "899f6a35-4103-4642-a503-ae38843d271c",
   "metadata": {},
   "outputs": [
    {
     "data": {
      "text/plain": [
       "False"
      ]
     },
     "execution_count": 94,
     "metadata": {},
     "output_type": "execute_result"
    }
   ],
   "source": [
    "bool({})\n",
    "\n"
   ]
  },
  {
   "cell_type": "code",
   "execution_count": null,
   "id": "f20ffd79-0173-4871-a0fc-7251d29769f4",
   "metadata": {},
   "outputs": [],
   "source": []
  },
  {
   "cell_type": "code",
   "execution_count": null,
   "id": "8748243f-1d83-44eb-8db7-52612c640a74",
   "metadata": {},
   "outputs": [],
   "source": []
  }
 ],
 "metadata": {
  "kernelspec": {
   "display_name": "Python 3 (ipykernel)",
   "language": "python",
   "name": "python3"
  },
  "language_info": {
   "codemirror_mode": {
    "name": "ipython",
    "version": 3
   },
   "file_extension": ".py",
   "mimetype": "text/x-python",
   "name": "python",
   "nbconvert_exporter": "python",
   "pygments_lexer": "ipython3",
   "version": "3.11.4"
  }
 },
 "nbformat": 4,
 "nbformat_minor": 5
}

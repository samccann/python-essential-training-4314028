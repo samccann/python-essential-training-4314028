{
 "cells": [
  {
   "cell_type": "markdown",
   "id": "9a44afe4-33af-49fc-b170-e347d61f9e10",
   "metadata": {},
   "source": [
    "\n",
    "\n",
    "# My experiments in learning Python with jupyter notebooks\n",
    "\n",
    "Just a but of this and that."
   ]
  },
  {
   "cell_type": "markdown",
   "id": "89c608bf-d5e8-4573-9c3d-e614f305571b",
   "metadata": {},
   "source": [
    "This is another markdown cell"
   ]
  },
  {
   "cell_type": "code",
   "execution_count": 2,
   "id": "e6860891-8064-4894-a2c0-b46bae3e8a1e",
   "metadata": {},
   "outputs": [
    {
     "data": {
      "text/plain": [
       "'String'"
      ]
     },
     "execution_count": 2,
     "metadata": {},
     "output_type": "execute_result"
    }
   ],
   "source": [
    "\"String\""
   ]
  },
  {
   "cell_type": "code",
   "execution_count": 4,
   "id": "a73994f8-f7c6-4492-b2db-6fec00964435",
   "metadata": {},
   "outputs": [
    {
     "data": {
      "text/plain": [
       "'string'"
      ]
     },
     "execution_count": 4,
     "metadata": {},
     "output_type": "execute_result"
    }
   ],
   "source": [
    "'string'"
   ]
  },
  {
   "cell_type": "code",
   "execution_count": null,
   "id": "ae98e562-49fc-4200-9dff-a766eaa94380",
   "metadata": {},
   "outputs": [],
   "source": [
    "input(\"what's the haps\")"
   ]
  },
  {
   "cell_type": "code",
   "execution_count": null,
   "id": "c18e5aa1-cf56-47a2-9134-dfccdaaccb59",
   "metadata": {},
   "outputs": [],
   "source": []
  }
 ],
 "metadata": {
  "kernelspec": {
   "display_name": "Python 3 (ipykernel)",
   "language": "python",
   "name": "python3"
  },
  "language_info": {
   "codemirror_mode": {
    "name": "ipython",
    "version": 3
   },
   "file_extension": ".py",
   "mimetype": "text/x-python",
   "name": "python",
   "nbconvert_exporter": "python",
   "pygments_lexer": "ipython3",
   "version": "3.11.4"
  }
 },
 "nbformat": 4,
 "nbformat_minor": 5
}
